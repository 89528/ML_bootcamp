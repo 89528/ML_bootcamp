{
 "cells": [
  {
   "cell_type": "markdown",
   "metadata": {},
   "source": [
    "# Simple Linear Regression\n",
    "    "
   ]
  },
  {
   "cell_type": "markdown",
   "metadata": {},
   "source": [
    "### Liner Regression\n",
    "\n",
    "Liner Regression is the simplest and most widely used statistical technique for \n",
    "predictive modeling. It basically gives us an equation, where we have our \n",
    "features as independent variables on which our target variable is dependent. \n",
    "<br /><br />\n",
    "\n",
    "Equation for Linear regression :- \n",
    "\\begin{eqnarray}\n",
    "Y = β_{1}X_{1} + β_{2}X_{2} + ..... + β_{n}X_{n} \n",
    "\\end{eqnarray}\n",
    "\n",
    "<br><br>\n",
    "or in simple terms we can say to fit a line to the data. \n",
    "<br><br>\n",
    "For Example "
   ]
  },
  {
   "cell_type": "markdown",
   "metadata": {},
   "source": [
    "<img src='(1).png'></img>"
   ]
  },
  {
   "cell_type": "markdown",
   "metadata": {},
   "source": [
    "<img src='download.png'></img>"
   ]
  },
  {
   "cell_type": "markdown",
   "metadata": {},
   "source": [
    "### Today, We will create our Machine Learning Model\n",
    "\n",
    "So let's dive in \n",
    "    "
   ]
  },
  {
   "cell_type": "code",
   "execution_count": 62,
   "metadata": {
    "collapsed": true
   },
   "outputs": [],
   "source": [
    "# import libraries \n",
    "import numpy as np \n",
    "import matplotlib.pyplot as plt\n",
    "import pandas as pd\n",
    "%matplotlib inline\n",
    "plt.rcParams['figure.figsize'] = (10.0, 10.0)\n"
   ]
  },
  {
   "cell_type": "markdown",
   "metadata": {},
   "source": [
    "### Generate some random data\n",
    "\\begin{eqnarray}\n",
    "y = 5x + 4\n",
    "\\end{eqnarray}\n",
    "<br>\n",
    "We will be using above equation to generate data. It's a line equation in two dimension where x is independent variable and y is dependent variable with slope = 5 and intercept = 4 \n",
    "<br>\n",
    "<br>\n",
    "Slope :- A slope of m means that every 1 - unit change in X yields a m-unit change in Y. \n",
    "<br>\n",
    "<br>\n",
    "Prediction :- If we know something about X, this can help in predicting something about Y. "
   ]
  },
  {
   "cell_type": "code",
   "execution_count": 66,
   "metadata": {
    "collapsed": true
   },
   "outputs": [],
   "source": [
    "delta = np.random.uniform(-20,20, size=(100,))\n",
    "x = np.arange(100)\n",
    "y = 5*x + 4 + delta\n"
   ]
  },
  {
   "cell_type": "code",
   "execution_count": 67,
   "metadata": {
    "collapsed": true
   },
   "outputs": [],
   "source": [
    "# data = pd.read_excel('slr09.xls')\n",
    "# x = data['X'].tolist()\n",
    "# y = data['Y'].tolist()"
   ]
  },
  {
   "cell_type": "code",
   "execution_count": 68,
   "metadata": {},
   "outputs": [
    {
     "data": {
      "text/plain": [
       "<matplotlib.text.Text at 0x7fdf234eff28>"
      ]
     },
     "execution_count": 68,
     "metadata": {},
     "output_type": "execute_result"
    },
    {
     "data": {
      "image/png": "[encoded data removed]",
      "text/plain": [
       "<matplotlib.figure.Figure at 0x7fdf1b7e3c18>"
      ]
     },
     "metadata": {},
     "output_type": "display_data"
    }
   ],
   "source": [
    "plt.scatter(x,y)\n",
    "plt.xlabel('X')\n",
    "plt.ylabel('Y')\n",
    "\n"
   ]
  },
  {
   "cell_type": "code",
   "execution_count": 73,
   "metadata": {},
   "outputs": [
    {
     "data": {
      "text/plain": [
       "array([ 0,  1,  2,  3,  4,  5,  6,  7,  8,  9, 10, 11, 12, 13, 14, 15, 16,\n",
       "       17, 18, 19, 20, 21, 22, 23, 24, 25, 26, 27, 28, 29, 30, 31, 32, 33,\n",
       "       34, 35, 36, 37, 38, 39, 40, 41, 42, 43, 44, 45, 46, 47, 48, 49, 50,\n",
       "       51, 52, 53, 54, 55, 56, 57, 58, 59, 60, 61, 62, 63, 64, 65, 66, 67,\n",
       "       68, 69, 70, 71, 72, 73, 74, 75, 76, 77, 78, 79, 80, 81, 82, 83, 84,\n",
       "       85, 86, 87, 88, 89, 90, 91, 92, 93, 94, 95, 96, 97, 98, 99])"
      ]
     },
     "execution_count": 73,
     "metadata": {},
     "output_type": "execute_result"
    }
   ],
   "source": [
    "x"
   ]
  },
  {
   "cell_type": "code",
   "execution_count": 74,
   "metadata": {},
   "outputs": [
    {
     "data": {
      "text/plain": [
       "array([  21.04180838,   20.18908748,   12.53039509,   20.96133005,\n",
       "         10.468694  ,   41.28253218,   41.61620766,   50.3531968 ,\n",
       "         36.54321618,   45.67567869,   41.41394275,   71.62559339,\n",
       "         55.61125058,   50.02227715,   58.66586554,   90.81299795,\n",
       "         92.96359606,   74.66264308,   93.49944484,  114.03242979,\n",
       "         86.49030617,  117.05209683,  100.74801775,  114.79150727,\n",
       "        133.75482946,  132.49485486,  130.57096346,  137.26283114,\n",
       "        155.04827211,  157.24231766,  136.77018324,  166.46394126,\n",
       "        144.11253733,  152.52620325,  173.14906368,  190.94213853,\n",
       "        182.19898657,  191.38419989,  204.2239224 ,  206.13121456,\n",
       "        219.72455802,  225.41156218,  204.80995817,  233.84368812,\n",
       "        229.91472998,  216.61660105,  221.53215782,  220.27123692,\n",
       "        229.65637762,  231.57624179,  255.29540212,  262.11639092,\n",
       "        255.79569381,  266.69766328,  290.54396669,  269.20137251,\n",
       "        270.071128  ,  282.51693521,  293.61043611,  299.08889346,\n",
       "        299.57149938,  290.32927884,  321.80466661,  327.29539707,\n",
       "        327.46135039,  328.13565791,  350.88382243,  354.75498621,\n",
       "        328.40290302,  338.3102861 ,  355.26168383,  353.21586061,\n",
       "        355.8615927 ,  368.40402669,  356.16194586,  390.68929348,\n",
       "        382.1711914 ,  386.12195632,  399.60192768,  399.73111404,\n",
       "        386.20085294,  393.83542504,  394.36447407,  420.08362367,\n",
       "        437.35102719,  429.89838373,  442.9652096 ,  426.01173676,\n",
       "        455.41244047,  448.67691622,  454.12363294,  466.68530722,\n",
       "        466.61271498,  488.5598724 ,  475.92524174,  476.23354412,\n",
       "        499.47287478,  471.95942554,  512.78854119,  496.95000151])"
      ]
     },
     "execution_count": 74,
     "metadata": {},
     "output_type": "execute_result"
    }
   ],
   "source": [
    "y"
   ]
  },
  {
   "cell_type": "markdown",
   "metadata": {},
   "source": [
    "### So now we got the data what next ?? \n",
    "Now we have to predict value of m and c in equation \n",
    "\n",
    "\n",
    "\\begin{eqnarray}\n",
    "y = mx + c\n",
    "\\end{eqnarray}\n",
    "<br />\n",
    "m and c are known as model coefficients or parameters. \n",
    "<br />\n",
    "<br />\n",
    "\n",
    "<b>Goal -> </b> To obtain coefficient estimates of m and c such that linear model fits the data well. or in other words finding slope(m) and intercept (c) such that resulting line fits the available data well. \n",
    "\n",
    "\n"
   ]
  },
  {
   "cell_type": "markdown",
   "metadata": {},
   "source": [
    "### Loss function \n",
    "\\begin{eqnarray}\n",
    "Loss = 1/2 * ( \\sum_{i = 1}^{n} (correct\\_value(x_{i}) - predicted\\_value(x_{i}))^2\n",
    "\\end{eqnarray}\n",
    "\n",
    "\n",
    "In Every Machine Learning Algorithm our main goal is to reduce the Loss function. \n",
    "But how can we reduce this loss function. \n",
    "<br><br>\n",
    "We will be using Gradient Descent Algorithm. (Will Explain in much detail later if time allows)"
   ]
  },
  {
   "cell_type": "code",
   "execution_count": 75,
   "metadata": {
    "collapsed": true
   },
   "outputs": [],
   "source": [
    "def error(c, m, X, Y):\n",
    "    total_error = 0\n",
    "    num_of_samples = len(X)\n",
    "    for i in range(num_of_samples):\n",
    "        error = (Y[i] - (m * x + c))**2\n",
    "        total_error += error \n",
    "    return total_error/ num_of_samples"
   ]
  },
  {
   "cell_type": "code",
   "execution_count": 76,
   "metadata": {
    "collapsed": true
   },
   "outputs": [],
   "source": [
    "def step_gradient(c_updated, m_updated, X, Y, learning_rate):\n",
    "    c_gradient = 0 \n",
    "    m_gradient = 0\n",
    "    num_of_samples = len(X)\n",
    "    for i in range(num_of_samples):\n",
    "        x = X[i]\n",
    "        y = Y[i]\n",
    "        c_gradient += -(2/num_of_samples) * (y - ((m_updated * x) + c_updated))\n",
    "        m_gradient += -(2/num_of_samples) * x * (y - ((m_updated * x) + c_updated))\n",
    "    new_c = c_updated - (learning_rate * c_gradient)\n",
    "    new_m = m_updated - (learning_rate * m_gradient)\n",
    "    return new_c, new_m"
   ]
  },
  {
   "cell_type": "code",
   "execution_count": 77,
   "metadata": {
    "collapsed": true
   },
   "outputs": [],
   "source": [
    "def perform_gradient_descent(X, Y, starting_c, starting_m, learning_rate, num_iter):\n",
    "    c = starting_c\n",
    "    m = starting_m\n",
    "    for i in range(num_iter):\n",
    "        c,m = step_gradient(c, m, X, Y, learning_rate)\n",
    "    return c,m\n"
   ]
  },
  {
   "cell_type": "code",
   "execution_count": 78,
   "metadata": {
    "collapsed": true
   },
   "outputs": [],
   "source": [
    "learning_rate = 0.0002\n",
    "initial_c = np.random.randint(1,10)\n",
    "initial_m = np.random.randint(1,10)\n",
    "num_iter = 1000\n",
    "c, m = perform_gradient_descent(x, y, initial_c, initial_m, learning_rate, num_iter)"
   ]
  },
  {
   "cell_type": "code",
   "execution_count": 79,
   "metadata": {
    "collapsed": true
   },
   "outputs": [],
   "source": [
    "# Predicted c and m "
   ]
  },
  {
   "cell_type": "code",
   "execution_count": 80,
   "metadata": {},
   "outputs": [
    {
     "data": {
      "text/plain": [
       "4.8909955091225621"
      ]
     },
     "execution_count": 80,
     "metadata": {},
     "output_type": "execute_result"
    }
   ],
   "source": [
    "c  "
   ]
  },
  {
   "cell_type": "code",
   "execution_count": 81,
   "metadata": {},
   "outputs": [
    {
     "data": {
      "text/plain": [
       "4.9787750744308621"
      ]
     },
     "execution_count": 81,
     "metadata": {},
     "output_type": "execute_result"
    }
   ],
   "source": [
    "m"
   ]
  },
  {
   "cell_type": "code",
   "execution_count": 82,
   "metadata": {
    "collapsed": true
   },
   "outputs": [],
   "source": [
    "get_y = lambda x: m*x + c "
   ]
  },
  {
   "cell_type": "code",
   "execution_count": 83,
   "metadata": {
    "collapsed": true
   },
   "outputs": [],
   "source": [
    "y_predicted = get_y(np.array(x))"
   ]
  },
  {
   "cell_type": "code",
   "execution_count": 84,
   "metadata": {},
   "outputs": [
    {
     "data": {
      "text/plain": [
       "<matplotlib.text.Text at 0x7fdf1b744ba8>"
      ]
     },
     "execution_count": 84,
     "metadata": {},
     "output_type": "execute_result"
    },
    {
     "data": {
      "image/png": "[encoded data removed]",
      "text/plain": [
       "<matplotlib.figure.Figure at 0x7fdf1b7b5b70>"
      ]
     },
     "metadata": {},
     "output_type": "display_data"
    }
   ],
   "source": [
    "plt.scatter(x,y)\n",
    "plt.plot(x, y_predicted)\n",
    "plt.xlabel('X')\n",
    "plt.ylabel('Y')"
   ]
  }
 ],
 "metadata": {
  "kernelspec": {
   "display_name": "Python 3",
   "language": "python",
   "name": "python3"
  },
  "language_info": {
   "codemirror_mode": {
    "name": "ipython",
    "version": 3
   },
   "file_extension": ".py",
   "mimetype": "text/x-python",
   "name": "python",
   "nbconvert_exporter": "python",
   "pygments_lexer": "ipython3",
   "version": "3.5.2"
  }
 },
 "nbformat": 4,
 "nbformat_minor": 2
}
